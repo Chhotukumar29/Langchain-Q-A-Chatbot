{
 "cells": [
  {
   "cell_type": "code",
   "execution_count": 19,
   "metadata": {},
   "outputs": [],
   "source": [
    "from langchain.llms import OpenAI"
   ]
  },
  {
   "cell_type": "code",
   "execution_count": 53,
   "metadata": {},
   "outputs": [],
   "source": [
    "from dotenv import load_dotenv\n",
    "import os\n",
    "\n",
    "# Load the .env file\n",
    "load_dotenv()\n",
    "\n",
    "# Now you can access your OPEN_API_KEY\n",
    "openai_api_key = os.getenv('OPEN_API_KEY')\n"
   ]
  },
  {
   "cell_type": "markdown",
   "metadata": {},
   "source": [
    "# temperature value --> how activate we want our model to be <br>\n",
    "* 0 ---> temperature is means model is very safe it is not taking any bets. <br>\n",
    "* 1 ---> It will take risk it might generate wrong output but it is very creative. \n"
   ]
  },
  {
   "cell_type": "code",
   "execution_count": 21,
   "metadata": {},
   "outputs": [],
   "source": [
    "llm = OpenAI(openai_api_key=os.environ['OPEN_API_KEY'], temperature=0.6)"
   ]
  },
  {
   "cell_type": "code",
   "execution_count": 22,
   "metadata": {},
   "outputs": [
    {
     "name": "stdout",
     "output_type": "stream",
     "text": [
      "\n",
      "\n",
      "The capital of India is New Delhi.\n"
     ]
    }
   ],
   "source": [
    "text=\"What is the capital of India\"\n",
    "\n",
    "print(llm.predict(text))"
   ]
  },
  {
   "cell_type": "code",
   "execution_count": 23,
   "metadata": {},
   "outputs": [],
   "source": [
    "from langchain import HuggingFaceHub\n",
    "\n",
    "load_dotenv()\n",
    "api_token = os.getenv('HUGGINGFACEHUB_API_TOKEN')\n",
    "\n",
    "# Ensure the token is loaded correctly\n",
    "if not api_token:\n",
    "    raise ValueError(\"API token not found. Check your .env file or environment variables.\")\n",
    "\n"
   ]
  },
  {
   "cell_type": "code",
   "execution_count": 24,
   "metadata": {},
   "outputs": [],
   "source": [
    "llm_huggingface = HuggingFaceHub(\n",
    "    repo_id=\"google/flan-t5-large\", \n",
    "    model_kwargs={'temperature': 0, 'max_length': 64},\n",
    "    huggingfacehub_api_token=api_token  \n",
    ")"
   ]
  },
  {
   "cell_type": "code",
   "execution_count": 25,
   "metadata": {},
   "outputs": [
    {
     "name": "stdout",
     "output_type": "stream",
     "text": [
      "moscow\n"
     ]
    }
   ],
   "source": [
    "output=llm_huggingface.predict(\"Can you tell me the capital of Russia\")\n",
    "print(output)"
   ]
  },
  {
   "cell_type": "markdown",
   "metadata": {},
   "source": [
    "# difference output between the OPENAI vs HuggingsFace"
   ]
  },
  {
   "cell_type": "code",
   "execution_count": 26,
   "metadata": {},
   "outputs": [
    {
     "name": "stdout",
     "output_type": "stream",
     "text": [
      "i love the way i look at the world i love the way i feel i love the way i think i feel i love the way i feel i love the way i think i feel i love the way i feel i love the way \n"
     ]
    }
   ],
   "source": [
    "output=llm_huggingface.predict(\"Can you write a poem about AI\")\n",
    "print(output)"
   ]
  },
  {
   "cell_type": "code",
   "execution_count": 27,
   "metadata": {},
   "outputs": [
    {
     "name": "stdout",
     "output_type": "stream",
     "text": [
      "\n",
      "\n",
      "In the world of tomorrow, they say,\n",
      "Artificial intelligence will pave the way.\n",
      "Machines that think and learn and feel,\n",
      "A new era, a new deal.\n",
      "\n",
      "They'll help us in our daily tasks,\n",
      "And take on duties that we once did ask.\n",
      "With precision and speed, they'll complete,\n",
      "An endless list of jobs, oh so neat.\n",
      "\n",
      "But some may fear this change, this rise,\n",
      "Will they replace us, will they be our demise?\n",
      "Or will they be our greatest ally,\n",
      "A tool to help us, to amplify.\n",
      "\n",
      "They'll analyze data and make predictions,\n",
      "Solving problems with their calculations.\n",
      "They'll revolutionize the way we live,\n",
      "And with their help, we'll surely thrive.\n",
      "\n",
      "But can they truly understand,\n",
      "The complexities of the human hand?\n",
      "Emotions and empathy, can they truly feel,\n",
      "Or will they only mimic what is real?\n",
      "\n",
      "As we create these beings of steel,\n",
      "We must remember, they're not just a deal.\n",
      "They'll reflect our own biases and flaws,\n",
      "And we must ensure they follow our laws.\n",
      "\n",
      "So let us embrace this future with care,\n",
      "For AI, though powerful, is still rare.\n",
      "We must use it for the greater good,\n",
      "And remember, it's only as smart as we could.\n",
      "\n",
      "In this\n"
     ]
    }
   ],
   "source": [
    "print(llm.predict('Can you write a poem about AI'))"
   ]
  },
  {
   "cell_type": "markdown",
   "metadata": {},
   "source": [
    "# Prompt Templates"
   ]
  },
  {
   "cell_type": "markdown",
   "metadata": {},
   "source": [
    "### Prompt Templates and LLMChain "
   ]
  },
  {
   "cell_type": "code",
   "execution_count": 28,
   "metadata": {},
   "outputs": [
    {
     "data": {
      "text/plain": [
       "'Tell me the capital of the India'"
      ]
     },
     "execution_count": 28,
     "metadata": {},
     "output_type": "execute_result"
    }
   ],
   "source": [
    "from langchain.prompts import PromptTemplate\n",
    "\n",
    "prompt_template = PromptTemplate(input_variables= ['country'], \n",
    "        template=\"Tell me the capital of the {country}\")\n",
    "\n",
    "prompt_template.format(country=\"India\")"
   ]
  },
  {
   "cell_type": "code",
   "execution_count": 29,
   "metadata": {},
   "outputs": [
    {
     "name": "stdout",
     "output_type": "stream",
     "text": [
      "\n",
      "\n",
      "The capital of India is New Delhi.\n"
     ]
    }
   ],
   "source": [
    "from langchain.chains import LLMChain\n",
    "\n",
    "chain = LLMChain(llm= llm, prompt= prompt_template)\n",
    "print(chain.run('India'))"
   ]
  },
  {
   "cell_type": "markdown",
   "metadata": {},
   "source": [
    "## Combining Multiple Chains Using Simple Sequential Chain"
   ]
  },
  {
   "cell_type": "code",
   "execution_count": 30,
   "metadata": {},
   "outputs": [],
   "source": [
    "capital_template=PromptTemplate(input_variables=['country'],\n",
    "template=\"Please tell me the capital of the {country}\")\n",
    "\n",
    "capital_chain=LLMChain(llm=llm,prompt=capital_template)\n",
    "\n",
    "famous_template=PromptTemplate(input_variables=['capital'],\n",
    "template=\"Suggest me some amazing places to visit in {capital}\")"
   ]
  },
  {
   "cell_type": "code",
   "execution_count": 31,
   "metadata": {},
   "outputs": [],
   "source": [
    "famous_chain=LLMChain(llm=llm,prompt=famous_template)"
   ]
  },
  {
   "cell_type": "code",
   "execution_count": 32,
   "metadata": {},
   "outputs": [
    {
     "data": {
      "text/plain": [
       "\" Some amazing places to visit in New Delhi are:\\n\\n1. Red Fort - a historic fort made of red sandstone and a UNESCO World Heritage Site.\\n2. Qutub Minar - the tallest minaret in India and a UNESCO World Heritage Site.\\n3. India Gate - a war memorial and popular tourist spot.\\n4. Lotus Temple - a beautiful Bahá'í House of Worship known for its distinctive lotus-shaped architecture.\\n5. Humayun's Tomb - a magnificent Mughal mausoleum and a UNESCO World Heritage Site.\\n6. Jama Masjid - one of the largest and most famous mosques in India.\\n7. Rashtrapati Bhavan - the official residence of the President of India, with stunning architecture and gardens.\\n8. Chandni Chowk - a bustling market in Old Delhi, known for its street food and shopping.\\n9. National Gallery of Modern Art - a must-visit for art lovers, showcasing modern and contemporary Indian art.\\n10. Hauz Khas Village - a trendy neighborhood with hip cafes, boutiques, and art galleries.\""
      ]
     },
     "execution_count": 32,
     "metadata": {},
     "output_type": "execute_result"
    }
   ],
   "source": [
    "from langchain.chains import SimpleSequentialChain\n",
    "\n",
    "chain=SimpleSequentialChain(chains=[capital_chain,famous_chain])\n",
    "chain.run(\"India\")"
   ]
  },
  {
   "cell_type": "markdown",
   "metadata": {},
   "source": [
    "## Sequential Chain"
   ]
  },
  {
   "cell_type": "code",
   "execution_count": 33,
   "metadata": {},
   "outputs": [],
   "source": [
    "capital_template=PromptTemplate(input_variables=['country'],\n",
    "template=\"Please tell me the capital of the {country}\")\n",
    "\n",
    "capital_chain=LLMChain(llm=llm,prompt=capital_template,output_key=\"capital\")"
   ]
  },
  {
   "cell_type": "code",
   "execution_count": 34,
   "metadata": {},
   "outputs": [],
   "source": [
    "famous_template=PromptTemplate(input_variables=['capital'],\n",
    "template=\"Suggest me some amazing places to visit in {capital}\")\n",
    "\n",
    "famous_chain=LLMChain(llm=llm,prompt=famous_template,output_key=\"places\")"
   ]
  },
  {
   "cell_type": "code",
   "execution_count": 35,
   "metadata": {},
   "outputs": [],
   "source": [
    "from langchain.chains import SequentialChain\n",
    "\n",
    "chain=SequentialChain(chains=[capital_chain,famous_chain],\n",
    "input_variables=['country'],\n",
    "output_variables=['capital',\"places\"])"
   ]
  },
  {
   "cell_type": "code",
   "execution_count": 36,
   "metadata": {},
   "outputs": [
    {
     "name": "stdout",
     "output_type": "stream",
     "text": [
      "{'country': 'India', 'capital': '\\n\\nThe capital of India is New Delhi.', 'places': \" Some amazing places to visit in New Delhi are:\\n\\n1. Red Fort - a historic fort complex that was the residence of Mughal emperors, now a UNESCO World Heritage Site.\\n\\n2. Qutub Minar - a 73-meter tall minaret, also a UNESCO World Heritage Site.\\n\\n3. India Gate - a war memorial dedicated to the Indian soldiers who died in World War I.\\n\\n4. Lotus Temple - a Bahá'í House of Worship known for its unique lotus-shaped architecture.\\n\\n5. Humayun's Tomb - the tomb of Mughal Emperor Humayun, another UNESCO World Heritage Site.\\n\\n6. Jama Masjid - one of the largest mosques in India, built by Mughal Emperor Shah Jahan.\\n\\n7. Chandni Chowk - a bustling market in Old Delhi, known for its narrow lanes, street food, and shopping.\\n\\n8. Akshardham Temple - a magnificent Hindu temple complex known for its grand architecture and spiritual atmosphere.\\n\\n9. Rashtrapati Bhavan - the official residence of the President of India, with beautiful gardens and architecture.\\n\\n10. Hauz Khas Village - a trendy neighborhood with cafes, boutiques, and art galleries, perfect for a day of exploring.\\n\\n11. Dilli\"}\n"
     ]
    }
   ],
   "source": [
    "print(chain({'country':\"India\"}))"
   ]
  },
  {
   "cell_type": "markdown",
   "metadata": {},
   "source": [
    "## Chatmodels With ChatOpenAI"
   ]
  },
  {
   "cell_type": "code",
   "execution_count": 39,
   "metadata": {},
   "outputs": [],
   "source": [
    "from langchain.chat_models import ChatOpenAI"
   ]
  },
  {
   "cell_type": "code",
   "execution_count": 40,
   "metadata": {},
   "outputs": [],
   "source": [
    "from langchain.schema import HumanMessage,SystemMessage,AIMessage"
   ]
  },
  {
   "cell_type": "code",
   "execution_count": 41,
   "metadata": {},
   "outputs": [
    {
     "name": "stderr",
     "output_type": "stream",
     "text": [
      "c:\\Users\\KPK\\Downloads\\R Programming Class\\Gen AI\\Krish Naik Gen AI\\venv\\lib\\site-packages\\langchain_core\\_api\\deprecation.py:141: LangChainDeprecationWarning: The class `ChatOpenAI` was deprecated in LangChain 0.0.10 and will be removed in 0.3.0. An updated version of the class exists in the langchain-openai package and should be used instead. To use it run `pip install -U langchain-openai` and import as `from langchain_openai import ChatOpenAI`.\n",
      "  warn_deprecated(\n"
     ]
    }
   ],
   "source": [
    "chatllm=ChatOpenAI(openai_api_key=os.environ[\"OPEN_API_KEY\"],temperature=0.6,model='gpt-3.5-turbo')"
   ]
  },
  {
   "cell_type": "code",
   "execution_count": 42,
   "metadata": {},
   "outputs": [
    {
     "name": "stderr",
     "output_type": "stream",
     "text": [
      "c:\\Users\\KPK\\Downloads\\R Programming Class\\Gen AI\\Krish Naik Gen AI\\venv\\lib\\site-packages\\langchain_core\\_api\\deprecation.py:141: LangChainDeprecationWarning: The method `BaseChatModel.__call__` was deprecated in langchain-core 0.1.7 and will be removed in 1.0. Use invoke instead.\n",
      "  warn_deprecated(\n"
     ]
    },
    {
     "data": {
      "text/plain": [
       "AIMessage(content='1. \"I asked my AI assistant to tell me a joke, and it replied, \\'I\\'m sorry, I\\'m not programmed for stand-up comedy. But I can help you order a pizza!\\'\"\\n\\n2. \"Why did the AI break up with its smartphone? It couldn\\'t handle the constant notifications!\"\\n\\n3. \"My AI assistant is so smart, it once corrected my grammar in a text message. Now it thinks it\\'s the punctuation police!\"\\n\\n4. \"I told my AI assistant to make me laugh, and it responded, \\'I can\\'t do that, but I can play you a sad song on repeat!\\' Thanks, AI, that really cheers me up!\"\\n\\n5. \"I asked my AI assistant for dating advice, and it said, \\'Just remember, love is like Wi-Fi, it\\'s everywhere but sometimes it\\'s a little slow to connect!\\'\"\\n\\nI hope these punchlines bring a smile to your face!', response_metadata={'token_usage': {'completion_tokens': 189, 'prompt_tokens': 25, 'total_tokens': 214}, 'model_name': 'gpt-3.5-turbo', 'system_fingerprint': None, 'finish_reason': 'stop', 'logprobs': None}, id='run-a56fc4d9-28dd-42db-8f32-ba76a8c9e25a-0')"
      ]
     },
     "execution_count": 42,
     "metadata": {},
     "output_type": "execute_result"
    }
   ],
   "source": [
    "chatllm([\n",
    "SystemMessage(content= 'You are a comedian AI assistant'),\n",
    "HumanMessage(content= 'Please provide some comedy punchlines to AI')\n",
    "\n",
    "])"
   ]
  },
  {
   "cell_type": "markdown",
   "metadata": {},
   "source": [
    "## Prompt Template + LLM + Output Parsers"
   ]
  },
  {
   "cell_type": "code",
   "execution_count": 48,
   "metadata": {},
   "outputs": [],
   "source": [
    "from langchain.chat_models import ChatOpenAI\n",
    "from langchain.prompts.chat import ChatPromptTemplate\n",
    "from langchain.schema import BaseOutputParser"
   ]
  },
  {
   "cell_type": "code",
   "execution_count": 49,
   "metadata": {},
   "outputs": [],
   "source": [
    "class Commaseperatedoutput(BaseOutputParser):\n",
    "    def parse(self,text:str):\n",
    "        return text.strip().split(\",\")"
   ]
  },
  {
   "cell_type": "code",
   "execution_count": 50,
   "metadata": {},
   "outputs": [],
   "source": [
    "template=\"Your are a helpful assistant. When the use given any input , you should generate 5 words synonyms in a comma seperated list\"\n",
    "human_template=\"{text}\"\n",
    "chatprompt=ChatPromptTemplate.from_messages([\n",
    "    (\"system\",template),\n",
    "    (\"human\",human_template)\n",
    "])"
   ]
  },
  {
   "cell_type": "code",
   "execution_count": 51,
   "metadata": {},
   "outputs": [],
   "source": [
    "chain = chatprompt|chatllm|Commaseperatedoutput()"
   ]
  },
  {
   "cell_type": "code",
   "execution_count": 52,
   "metadata": {},
   "outputs": [
    {
     "data": {
      "text/plain": [
       "['smart', ' clever', ' knowledgeable', ' bright', ' astute']"
      ]
     },
     "execution_count": 52,
     "metadata": {},
     "output_type": "execute_result"
    }
   ],
   "source": [
    "chain.invoke({\"text\":\"intelligent\"}) "
   ]
  },
  {
   "cell_type": "code",
   "execution_count": null,
   "metadata": {},
   "outputs": [],
   "source": []
  }
 ],
 "metadata": {
  "kernelspec": {
   "display_name": "Python 3",
   "language": "python",
   "name": "python3"
  },
  "language_info": {
   "codemirror_mode": {
    "name": "ipython",
    "version": 3
   },
   "file_extension": ".py",
   "mimetype": "text/x-python",
   "name": "python",
   "nbconvert_exporter": "python",
   "pygments_lexer": "ipython3",
   "version": "3.9.0"
  }
 },
 "nbformat": 4,
 "nbformat_minor": 2
}
